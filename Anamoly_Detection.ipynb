{
 "cells": [
  {
   "cell_type": "markdown",
   "metadata": {},
   "source": [
    "# <center> Anamoly Detection </center>\n",
    "\n",
    "___\n",
    "\n",
    "We will use a subset of Kaggle Dataset - [Credit card Fraud Detection](https://www.kaggle.com/mlg-ulb/creditcardfraud#creditcard.csv). \n",
    "\n",
    "The datasets contains transactions made by credit cards in September 2013 by european cardholders. This dataset presents transactions that occurred in two days, where we have 492 fraudss out of 100,000 transactions. The dataset is highly unbalanced, the positive class (frauds) account for 0.4% of all transactions.\n",
    "\n",
    "Features V1, V2, ... V28 are the principal components obtained with PCA, the only feature which has not been transformed with PCA is 'Amount'. \n",
    "- Feature 'Amount' is the transaction Amount.\n",
    "- Feature 'Class' is the response variable and it takes <b>value 1 in case of fraud and 0 otherwise</b>.\n",
    "\n",
    "### OBJECTIVE : Identify fraudulent credit card transactions using Autoencoders.\n",
    "\n",
    "#### We will train the autoencoder model only for normal transactions. The idea is that a model trained on normal transactions will give high error on fraud transactions.\n",
    "\n",
    "___"
   ]
  },
  {
   "cell_type": "markdown",
   "metadata": {},
   "source": [
    "### Load required libraries"
   ]
  },
  {
   "cell_type": "code",
   "execution_count": 1,
   "metadata": {},
   "outputs": [
    {
     "name": "stderr",
     "output_type": "stream",
     "text": [
      "Using TensorFlow backend.\n"
     ]
    }
   ],
   "source": [
    "import pandas as pd\n",
    "import numpy as np\n",
    "\n",
    "from sklearn.model_selection import train_test_split\n",
    "\n",
    "from keras.layers import Input, Dense, Dropout\n",
    "from keras.models import Model\n",
    "\n",
    "import matplotlib.pyplot as plt\n",
    "%matplotlib inline"
   ]
  },
  {
   "cell_type": "markdown",
   "metadata": {},
   "source": [
    "### Reading the data"
   ]
  },
  {
   "cell_type": "code",
   "execution_count": 2,
   "metadata": {},
   "outputs": [],
   "source": [
    "data = pd.read_csv(\"Fraud_data_amtstd.csv\")"
   ]
  },
  {
   "cell_type": "markdown",
   "metadata": {},
   "source": [
    "### Understand the data"
   ]
  },
  {
   "cell_type": "markdown",
   "metadata": {},
   "source": [
    "#### Display No. of records and attributes "
   ]
  },
  {
   "cell_type": "code",
   "execution_count": 3,
   "metadata": {},
   "outputs": [
    {
     "data": {
      "text/plain": [
       "(100000, 30)"
      ]
     },
     "execution_count": 3,
     "metadata": {},
     "output_type": "execute_result"
    }
   ],
   "source": [
    "data.shape"
   ]
  },
  {
   "cell_type": "markdown",
   "metadata": {},
   "source": [
    "#### Look at first 5 records"
   ]
  },
  {
   "cell_type": "code",
   "execution_count": 4,
   "metadata": {},
   "outputs": [
    {
     "data": {
      "text/html": [
       "<div>\n",
       "<style scoped>\n",
       "    .dataframe tbody tr th:only-of-type {\n",
       "        vertical-align: middle;\n",
       "    }\n",
       "\n",
       "    .dataframe tbody tr th {\n",
       "        vertical-align: top;\n",
       "    }\n",
       "\n",
       "    .dataframe thead th {\n",
       "        text-align: right;\n",
       "    }\n",
       "</style>\n",
       "<table border=\"1\" class=\"dataframe\">\n",
       "  <thead>\n",
       "    <tr style=\"text-align: right;\">\n",
       "      <th></th>\n",
       "      <th>V1</th>\n",
       "      <th>V2</th>\n",
       "      <th>V3</th>\n",
       "      <th>V4</th>\n",
       "      <th>V5</th>\n",
       "      <th>V6</th>\n",
       "      <th>V7</th>\n",
       "      <th>V8</th>\n",
       "      <th>V9</th>\n",
       "      <th>V10</th>\n",
       "      <th>...</th>\n",
       "      <th>V21</th>\n",
       "      <th>V22</th>\n",
       "      <th>V23</th>\n",
       "      <th>V24</th>\n",
       "      <th>V25</th>\n",
       "      <th>V26</th>\n",
       "      <th>V27</th>\n",
       "      <th>V28</th>\n",
       "      <th>Amount</th>\n",
       "      <th>Class</th>\n",
       "    </tr>\n",
       "  </thead>\n",
       "  <tbody>\n",
       "    <tr>\n",
       "      <td>0</td>\n",
       "      <td>1.836500</td>\n",
       "      <td>-0.545419</td>\n",
       "      <td>-0.462979</td>\n",
       "      <td>0.537174</td>\n",
       "      <td>-0.426143</td>\n",
       "      <td>-0.100606</td>\n",
       "      <td>-0.584764</td>\n",
       "      <td>-0.103956</td>\n",
       "      <td>2.268429</td>\n",
       "      <td>-0.365185</td>\n",
       "      <td>...</td>\n",
       "      <td>0.085111</td>\n",
       "      <td>0.410736</td>\n",
       "      <td>0.137625</td>\n",
       "      <td>0.602906</td>\n",
       "      <td>-0.350260</td>\n",
       "      <td>0.464407</td>\n",
       "      <td>-0.070917</td>\n",
       "      <td>-0.030486</td>\n",
       "      <td>0.049882</td>\n",
       "      <td>0</td>\n",
       "    </tr>\n",
       "    <tr>\n",
       "      <td>1</td>\n",
       "      <td>-4.289880</td>\n",
       "      <td>-2.576061</td>\n",
       "      <td>-0.092256</td>\n",
       "      <td>1.976405</td>\n",
       "      <td>2.810033</td>\n",
       "      <td>-2.669128</td>\n",
       "      <td>-0.981883</td>\n",
       "      <td>-0.470310</td>\n",
       "      <td>-0.025692</td>\n",
       "      <td>0.099528</td>\n",
       "      <td>...</td>\n",
       "      <td>-0.473240</td>\n",
       "      <td>-0.307295</td>\n",
       "      <td>-2.789549</td>\n",
       "      <td>0.578976</td>\n",
       "      <td>-0.837979</td>\n",
       "      <td>0.372843</td>\n",
       "      <td>0.353451</td>\n",
       "      <td>-1.662202</td>\n",
       "      <td>-0.347171</td>\n",
       "      <td>0</td>\n",
       "    </tr>\n",
       "    <tr>\n",
       "      <td>2</td>\n",
       "      <td>1.131318</td>\n",
       "      <td>0.139818</td>\n",
       "      <td>0.586921</td>\n",
       "      <td>1.069291</td>\n",
       "      <td>-0.334908</td>\n",
       "      <td>-0.204938</td>\n",
       "      <td>-0.135526</td>\n",
       "      <td>0.043821</td>\n",
       "      <td>-0.121117</td>\n",
       "      <td>0.182139</td>\n",
       "      <td>...</td>\n",
       "      <td>-0.028126</td>\n",
       "      <td>-0.167062</td>\n",
       "      <td>-0.048054</td>\n",
       "      <td>-0.009912</td>\n",
       "      <td>0.417694</td>\n",
       "      <td>-0.479793</td>\n",
       "      <td>0.024360</td>\n",
       "      <td>0.023878</td>\n",
       "      <td>-0.208963</td>\n",
       "      <td>0</td>\n",
       "    </tr>\n",
       "    <tr>\n",
       "      <td>3</td>\n",
       "      <td>-0.866956</td>\n",
       "      <td>1.373947</td>\n",
       "      <td>1.948343</td>\n",
       "      <td>2.686750</td>\n",
       "      <td>-0.366790</td>\n",
       "      <td>0.568632</td>\n",
       "      <td>-0.278349</td>\n",
       "      <td>0.739536</td>\n",
       "      <td>-1.655955</td>\n",
       "      <td>0.708396</td>\n",
       "      <td>...</td>\n",
       "      <td>0.022719</td>\n",
       "      <td>-0.070619</td>\n",
       "      <td>-0.080307</td>\n",
       "      <td>0.000816</td>\n",
       "      <td>0.092167</td>\n",
       "      <td>0.159131</td>\n",
       "      <td>0.157940</td>\n",
       "      <td>-0.014370</td>\n",
       "      <td>-0.253595</td>\n",
       "      <td>0</td>\n",
       "    </tr>\n",
       "    <tr>\n",
       "      <td>4</td>\n",
       "      <td>-0.842670</td>\n",
       "      <td>1.401843</td>\n",
       "      <td>0.927235</td>\n",
       "      <td>1.070402</td>\n",
       "      <td>0.843883</td>\n",
       "      <td>0.467333</td>\n",
       "      <td>0.366716</td>\n",
       "      <td>0.616739</td>\n",
       "      <td>-1.586963</td>\n",
       "      <td>0.000041</td>\n",
       "      <td>...</td>\n",
       "      <td>0.036573</td>\n",
       "      <td>-0.182581</td>\n",
       "      <td>-0.226834</td>\n",
       "      <td>-1.029794</td>\n",
       "      <td>-0.118762</td>\n",
       "      <td>-0.228960</td>\n",
       "      <td>-0.024250</td>\n",
       "      <td>0.046547</td>\n",
       "      <td>-0.346230</td>\n",
       "      <td>0</td>\n",
       "    </tr>\n",
       "  </tbody>\n",
       "</table>\n",
       "<p>5 rows × 30 columns</p>\n",
       "</div>"
      ],
      "text/plain": [
       "         V1        V2        V3        V4        V5        V6        V7  \\\n",
       "0  1.836500 -0.545419 -0.462979  0.537174 -0.426143 -0.100606 -0.584764   \n",
       "1 -4.289880 -2.576061 -0.092256  1.976405  2.810033 -2.669128 -0.981883   \n",
       "2  1.131318  0.139818  0.586921  1.069291 -0.334908 -0.204938 -0.135526   \n",
       "3 -0.866956  1.373947  1.948343  2.686750 -0.366790  0.568632 -0.278349   \n",
       "4 -0.842670  1.401843  0.927235  1.070402  0.843883  0.467333  0.366716   \n",
       "\n",
       "         V8        V9       V10  ...       V21       V22       V23       V24  \\\n",
       "0 -0.103956  2.268429 -0.365185  ...  0.085111  0.410736  0.137625  0.602906   \n",
       "1 -0.470310 -0.025692  0.099528  ... -0.473240 -0.307295 -2.789549  0.578976   \n",
       "2  0.043821 -0.121117  0.182139  ... -0.028126 -0.167062 -0.048054 -0.009912   \n",
       "3  0.739536 -1.655955  0.708396  ...  0.022719 -0.070619 -0.080307  0.000816   \n",
       "4  0.616739 -1.586963  0.000041  ...  0.036573 -0.182581 -0.226834 -1.029794   \n",
       "\n",
       "        V25       V26       V27       V28    Amount  Class  \n",
       "0 -0.350260  0.464407 -0.070917 -0.030486  0.049882      0  \n",
       "1 -0.837979  0.372843  0.353451 -1.662202 -0.347171      0  \n",
       "2  0.417694 -0.479793  0.024360  0.023878 -0.208963      0  \n",
       "3  0.092167  0.159131  0.157940 -0.014370 -0.253595      0  \n",
       "4 -0.118762 -0.228960 -0.024250  0.046547 -0.346230      0  \n",
       "\n",
       "[5 rows x 30 columns]"
      ]
     },
     "execution_count": 4,
     "metadata": {},
     "output_type": "execute_result"
    }
   ],
   "source": [
    "data.head()"
   ]
  },
  {
   "cell_type": "markdown",
   "metadata": {},
   "source": [
    "#### Display column names"
   ]
  },
  {
   "cell_type": "code",
   "execution_count": 5,
   "metadata": {},
   "outputs": [
    {
     "data": {
      "text/plain": [
       "Index(['V1', 'V2', 'V3', 'V4', 'V5', 'V6', 'V7', 'V8', 'V9', 'V10', 'V11',\n",
       "       'V12', 'V13', 'V14', 'V15', 'V16', 'V17', 'V18', 'V19', 'V20', 'V21',\n",
       "       'V22', 'V23', 'V24', 'V25', 'V26', 'V27', 'V28', 'Amount', 'Class'],\n",
       "      dtype='object')"
      ]
     },
     "execution_count": 5,
     "metadata": {},
     "output_type": "execute_result"
    }
   ],
   "source": [
    "data.columns"
   ]
  },
  {
   "cell_type": "markdown",
   "metadata": {},
   "source": [
    "#### Data type of each attribute"
   ]
  },
  {
   "cell_type": "code",
   "execution_count": 6,
   "metadata": {},
   "outputs": [
    {
     "data": {
      "text/plain": [
       "V1        float64\n",
       "V2        float64\n",
       "V3        float64\n",
       "V4        float64\n",
       "V5        float64\n",
       "V6        float64\n",
       "V7        float64\n",
       "V8        float64\n",
       "V9        float64\n",
       "V10       float64\n",
       "V11       float64\n",
       "V12       float64\n",
       "V13       float64\n",
       "V14       float64\n",
       "V15       float64\n",
       "V16       float64\n",
       "V17       float64\n",
       "V18       float64\n",
       "V19       float64\n",
       "V20       float64\n",
       "V21       float64\n",
       "V22       float64\n",
       "V23       float64\n",
       "V24       float64\n",
       "V25       float64\n",
       "V26       float64\n",
       "V27       float64\n",
       "V28       float64\n",
       "Amount    float64\n",
       "Class       int64\n",
       "dtype: object"
      ]
     },
     "execution_count": 6,
     "metadata": {},
     "output_type": "execute_result"
    }
   ],
   "source": [
    "data.dtypes"
   ]
  },
  {
   "cell_type": "markdown",
   "metadata": {},
   "source": [
    "### Data distribution w.r.t target attributes"
   ]
  },
  {
   "cell_type": "code",
   "execution_count": 7,
   "metadata": {},
   "outputs": [
    {
     "name": "stdout",
     "output_type": "stream",
     "text": [
      "0    99508\n",
      "1      492\n",
      "Name: Class, dtype: int64\n",
      "0    99.508\n",
      "1     0.492\n",
      "Name: Class, dtype: float64\n"
     ]
    }
   ],
   "source": [
    "print(pd.value_counts(data['Class']))\n",
    "\n",
    "print(pd.value_counts(data['Class'])*100/data['Class'].shape[0])"
   ]
  },
  {
   "cell_type": "markdown",
   "metadata": {},
   "source": [
    "#### Bar plot"
   ]
  },
  {
   "cell_type": "code",
   "execution_count": 8,
   "metadata": {},
   "outputs": [
    {
     "data": {
      "text/plain": [
       "Text(0, 0.5, 'Frequency')"
      ]
     },
     "execution_count": 8,
     "metadata": {},
     "output_type": "execute_result"
    },
    {
     "data": {
      "image/png": "[encoded data removed]",
      "text/plain": [
       "<Figure size 432x288 with 1 Axes>"
      ]
     },
     "metadata": {
      "needs_background": "light"
     },
     "output_type": "display_data"
    }
   ],
   "source": [
    "# Drawing a barplot\n",
    "pd.value_counts(data['Class']).plot(kind = 'bar', rot=0)\n",
    "\n",
    "# Giving titles and labels to the plot\n",
    "plt.title(\"Transaction class distribution\")\n",
    "plt.xticks(range(2), [\"Normal\", \"Fraud\"])\n",
    "plt.xlabel(\"Class\")\n",
    "plt.ylabel(\"Frequency\")"
   ]
  },
  {
   "cell_type": "markdown",
   "metadata": {},
   "source": [
    "## Train test split\n",
    "\n",
    "- Seperate out fraud and non-fraud data.\n",
    "- Split the non-fraud into train and test"
   ]
  },
  {
   "cell_type": "code",
   "execution_count": 9,
   "metadata": {},
   "outputs": [],
   "source": [
    "data_nf = data[data.values[:, -1] == 0]\n",
    "test_f  = data[data.values[:, -1] == 1]\n",
    "\n",
    "train_nf, test_nf = train_test_split(data_nf, test_size=0.2, \n",
    "                                     random_state=123)"
   ]
  },
  {
   "cell_type": "markdown",
   "metadata": {},
   "source": [
    "#### Look at the distribution w.r.t target attribute"
   ]
  },
  {
   "cell_type": "code",
   "execution_count": 10,
   "metadata": {},
   "outputs": [
    {
     "name": "stdout",
     "output_type": "stream",
     "text": [
      "(array([0, 1]), array([99508,   492]))\n",
      "(array([0]), array([79606]))\n",
      "(array([0]), array([19902]))\n",
      "(array([1]), array([492]))\n"
     ]
    }
   ],
   "source": [
    "print(np.unique(data.Class, return_counts=True))\n",
    "print(np.unique(train_nf.Class, return_counts=True))\n",
    "print(np.unique(test_nf.Class, return_counts=True))\n",
    "print(np.unique(test_f.Class, return_counts=True))"
   ]
  },
  {
   "cell_type": "markdown",
   "metadata": {},
   "source": [
    "#### Only extract independent features"
   ]
  },
  {
   "cell_type": "code",
   "execution_count": 11,
   "metadata": {},
   "outputs": [],
   "source": [
    "X_train_nf = train_nf.loc[:, train_nf.columns!='Class']\n",
    "\n",
    "X_test_nf = test_nf.loc[:, test_nf.columns!='Class']\n",
    "\n",
    "X_test_f = test_f.loc[:, test_f.columns!='Class']"
   ]
  },
  {
   "cell_type": "markdown",
   "metadata": {},
   "source": [
    "## Autoencoder Model"
   ]
  },
  {
   "cell_type": "code",
   "execution_count": 12,
   "metadata": {},
   "outputs": [
    {
     "name": "stdout",
     "output_type": "stream",
     "text": [
      "29\n"
     ]
    }
   ],
   "source": [
    "input_dim = X_train_nf.shape[1]\n",
    "print(input_dim)\n",
    "\n",
    "encoding_dim = 20"
   ]
  },
  {
   "cell_type": "code",
   "execution_count": 13,
   "metadata": {},
   "outputs": [],
   "source": [
    "# Input placeholder\n",
    "input_att = Input(shape=(input_dim,))\n",
    "\n",
    "input_dropout = Dropout(0.1)(input_att)\n",
    " \n",
    "# \"encoded\" is the encoded representation of the input\n",
    "encoded = Dense(encoding_dim, activation='relu')(input_dropout)\n",
    "\n",
    "# \"decoded\" is the lossy reconstruction of the input\n",
    "decoded = Dense(input_dim, activation='linear')(encoded)"
   ]
  },
  {
   "cell_type": "code",
   "execution_count": 14,
   "metadata": {},
   "outputs": [],
   "source": [
    "autoencoder = Model(input_att, decoded)"
   ]
  },
  {
   "cell_type": "markdown",
   "metadata": {},
   "source": [
    "#### Compile the model"
   ]
  },
  {
   "cell_type": "code",
   "execution_count": 15,
   "metadata": {},
   "outputs": [],
   "source": [
    "autoencoder.compile(loss='mean_squared_error', optimizer='adam', metrics = ['accuracy'])"
   ]
  },
  {
   "cell_type": "markdown",
   "metadata": {},
   "source": [
    "#### Fit the model"
   ]
  },
  {
   "cell_type": "code",
   "execution_count": 16,
   "metadata": {},
   "outputs": [
    {
     "name": "stdout",
     "output_type": "stream",
     "text": [
      "Train on 63684 samples, validate on 15922 samples\n",
      "Epoch 1/100\n",
      "63684/63684 [==============================] - 3s 48us/step - loss: 0.5876 - acc: 0.4754 - val_loss: 0.2250 - val_acc: 0.7237\n",
      "Epoch 2/100\n",
      "63684/63684 [==============================] - 3s 41us/step - loss: 0.2409 - acc: 0.7265 - val_loss: 0.1177 - val_acc: 0.8625\n",
      "Epoch 3/100\n",
      "63684/63684 [==============================] - 3s 40us/step - loss: 0.1861 - acc: 0.7933 - val_loss: 0.0970 - val_acc: 0.9056\n",
      "Epoch 4/100\n",
      "63684/63684 [==============================] - 3s 44us/step - loss: 0.1736 - acc: 0.8188 - val_loss: 0.0908 - val_acc: 0.9230\n",
      "Epoch 5/100\n",
      "63684/63684 [==============================] - 3s 45us/step - loss: 0.1699 - acc: 0.8224 - val_loss: 0.0897 - val_acc: 0.9229\n",
      "Epoch 6/100\n",
      "63684/63684 [==============================] - 3s 47us/step - loss: 0.1741 - acc: 0.8213 - val_loss: 0.0940 - val_acc: 0.9102\n",
      "Epoch 7/100\n",
      "63684/63684 [==============================] - 3s 46us/step - loss: 0.1682 - acc: 0.8247 - val_loss: 0.0890 - val_acc: 0.9270\n",
      "Epoch 8/100\n",
      "63684/63684 [==============================] - 3s 44us/step - loss: 0.1686 - acc: 0.8218 - val_loss: 0.0900 - val_acc: 0.9168\n",
      "Epoch 9/100\n",
      "63684/63684 [==============================] - 3s 46us/step - loss: 0.1728 - acc: 0.8236 - val_loss: 0.0926 - val_acc: 0.9075\n",
      "Epoch 10/100\n",
      "63684/63684 [==============================] - 3s 47us/step - loss: 0.1689 - acc: 0.8210 - val_loss: 0.0881 - val_acc: 0.9276\n",
      "Epoch 11/100\n",
      "63684/63684 [==============================] - 3s 48us/step - loss: 0.1681 - acc: 0.8191 - val_loss: 0.0896 - val_acc: 0.9232\n",
      "Epoch 12/100\n",
      "63684/63684 [==============================] - 3s 47us/step - loss: 0.1670 - acc: 0.8188 - val_loss: 0.0898 - val_acc: 0.9233\n",
      "Epoch 13/100\n",
      "63684/63684 [==============================] - 4s 57us/step - loss: 0.1714 - acc: 0.8159 - val_loss: 0.0906 - val_acc: 0.9226\n",
      "Epoch 14/100\n",
      "63684/63684 [==============================] - 3s 49us/step - loss: 0.1683 - acc: 0.8176 - val_loss: 0.0885 - val_acc: 0.9330\n",
      "Epoch 15/100\n",
      "63684/63684 [==============================] - 3s 50us/step - loss: 0.1680 - acc: 0.8146 - val_loss: 0.0881 - val_acc: 0.9291\n",
      "Epoch 16/100\n",
      "63684/63684 [==============================] - 3s 52us/step - loss: 0.1701 - acc: 0.8151 - val_loss: 0.0908 - val_acc: 0.9251\n",
      "Epoch 17/100\n",
      "63684/63684 [==============================] - 3s 50us/step - loss: 0.1667 - acc: 0.8185 - val_loss: 0.0896 - val_acc: 0.9175\n",
      "Epoch 18/100\n",
      "63684/63684 [==============================] - 3s 50us/step - loss: 0.1682 - acc: 0.8152 - val_loss: 0.0891 - val_acc: 0.9222\n",
      "Epoch 19/100\n",
      "63684/63684 [==============================] - 4s 62us/step - loss: 0.1666 - acc: 0.8176 - val_loss: 0.0907 - val_acc: 0.8936\n",
      "Epoch 20/100\n",
      "63684/63684 [==============================] - 3s 52us/step - loss: 0.1654 - acc: 0.8139 - val_loss: 0.0887 - val_acc: 0.9248\n",
      "Epoch 21/100\n",
      "63684/63684 [==============================] - 3s 52us/step - loss: 0.1666 - acc: 0.8145 - val_loss: 0.0900 - val_acc: 0.9187\n",
      "Epoch 22/100\n",
      "63684/63684 [==============================] - 3s 49us/step - loss: 0.1649 - acc: 0.8157 - val_loss: 0.0900 - val_acc: 0.9065\n",
      "Epoch 23/100\n",
      "63684/63684 [==============================] - 3s 53us/step - loss: 0.1651 - acc: 0.8137 - val_loss: 0.0898 - val_acc: 0.9135\n",
      "Epoch 24/100\n",
      "63684/63684 [==============================] - 4s 55us/step - loss: 0.1671 - acc: 0.8095 - val_loss: 0.0899 - val_acc: 0.9064\n",
      "Epoch 25/100\n",
      "63684/63684 [==============================] - 5s 79us/step - loss: 0.1651 - acc: 0.8076 - val_loss: 0.0932 - val_acc: 0.8999\n",
      "Epoch 26/100\n",
      "63684/63684 [==============================] - 5s 82us/step - loss: 0.1640 - acc: 0.8087 - val_loss: 0.0885 - val_acc: 0.9136\n",
      "Epoch 27/100\n",
      "63684/63684 [==============================] - 5s 79us/step - loss: 0.1640 - acc: 0.8155 - val_loss: 0.0937 - val_acc: 0.9101\n",
      "Epoch 28/100\n",
      "63684/63684 [==============================] - 6s 87us/step - loss: 0.1629 - acc: 0.8102 - val_loss: 0.0896 - val_acc: 0.9079\n",
      "Epoch 29/100\n",
      "63684/63684 [==============================] - 5s 85us/step - loss: 0.1636 - acc: 0.8116 - val_loss: 0.0879 - val_acc: 0.9131\n",
      "Epoch 30/100\n",
      "63684/63684 [==============================] - 5s 81us/step - loss: 0.1659 - acc: 0.8095 - val_loss: 0.0907 - val_acc: 0.9107\n",
      "Epoch 31/100\n",
      "63684/63684 [==============================] - 5s 80us/step - loss: 0.1639 - acc: 0.8081 - val_loss: 0.0901 - val_acc: 0.8988\n",
      "Epoch 32/100\n",
      "63684/63684 [==============================] - 6s 92us/step - loss: 0.1639 - acc: 0.8061 - val_loss: 0.0920 - val_acc: 0.9166\n",
      "Epoch 33/100\n",
      "63684/63684 [==============================] - 8s 122us/step - loss: 0.1637 - acc: 0.8083 - val_loss: 0.0894 - val_acc: 0.9118\n",
      "Epoch 34/100\n",
      "63684/63684 [==============================] - 7s 105us/step - loss: 0.1599 - acc: 0.8095 - val_loss: 0.0891 - val_acc: 0.9237\n",
      "Epoch 35/100\n",
      "63684/63684 [==============================] - 6s 90us/step - loss: 0.1625 - acc: 0.8101 - val_loss: 0.0886 - val_acc: 0.9150\n",
      "Epoch 36/100\n",
      "63684/63684 [==============================] - 6s 99us/step - loss: 0.1645 - acc: 0.8072 - val_loss: 0.0900 - val_acc: 0.9089\n",
      "Epoch 37/100\n",
      "63684/63684 [==============================] - 5s 82us/step - loss: 0.1611 - acc: 0.8099 - val_loss: 0.0932 - val_acc: 0.8922\n",
      "Epoch 38/100\n",
      "63684/63684 [==============================] - 5s 82us/step - loss: 0.1688 - acc: 0.8053 - val_loss: 0.0909 - val_acc: 0.9203\n",
      "Epoch 39/100\n",
      "63684/63684 [==============================] - 5s 75us/step - loss: 0.1646 - acc: 0.8061 - val_loss: 0.0889 - val_acc: 0.9222\n",
      "Epoch 40/100\n",
      "63684/63684 [==============================] - 5s 74us/step - loss: 0.1646 - acc: 0.8066 - val_loss: 0.0925 - val_acc: 0.9069\n",
      "Epoch 41/100\n",
      "63684/63684 [==============================] - 5s 78us/step - loss: 0.1648 - acc: 0.8062 - val_loss: 0.0928 - val_acc: 0.9129\n",
      "Epoch 42/100\n",
      "63684/63684 [==============================] - 5s 78us/step - loss: 0.1640 - acc: 0.8081 - val_loss: 0.0894 - val_acc: 0.9123\n",
      "Epoch 43/100\n",
      "63684/63684 [==============================] - 5s 80us/step - loss: 0.1638 - acc: 0.8081 - val_loss: 0.0906 - val_acc: 0.9077\n",
      "Epoch 44/100\n",
      "63684/63684 [==============================] - 5s 86us/step - loss: 0.1681 - acc: 0.8074 - val_loss: 0.0901 - val_acc: 0.9074\n",
      "Epoch 45/100\n",
      "63684/63684 [==============================] - 5s 86us/step - loss: 0.1599 - acc: 0.8112 - val_loss: 0.0945 - val_acc: 0.9189\n",
      "Epoch 46/100\n",
      "63684/63684 [==============================] - 6s 93us/step - loss: 0.1609 - acc: 0.8099 - val_loss: 0.0884 - val_acc: 0.9195\n",
      "Epoch 47/100\n",
      "63684/63684 [==============================] - 6s 98us/step - loss: 0.1635 - acc: 0.8122 - val_loss: 0.0911 - val_acc: 0.9167\n",
      "Epoch 48/100\n",
      "63684/63684 [==============================] - 7s 109us/step - loss: 0.1598 - acc: 0.8095 - val_loss: 0.0931 - val_acc: 0.9235\n",
      "Epoch 49/100\n",
      "63684/63684 [==============================] - 5s 79us/step - loss: 0.1598 - acc: 0.8117 - val_loss: 0.0888 - val_acc: 0.9182\n",
      "Epoch 50/100\n",
      "63684/63684 [==============================] - 5s 81us/step - loss: 0.1602 - acc: 0.8121 - val_loss: 0.0953 - val_acc: 0.8863\n",
      "Epoch 51/100\n",
      "63684/63684 [==============================] - 5s 78us/step - loss: 0.1676 - acc: 0.8053 - val_loss: 0.0900 - val_acc: 0.9148\n",
      "Epoch 52/100\n",
      "63684/63684 [==============================] - 5s 78us/step - loss: 0.1612 - acc: 0.8098 - val_loss: 0.0901 - val_acc: 0.9090\n",
      "Epoch 53/100\n",
      "63684/63684 [==============================] - 5s 80us/step - loss: 0.1601 - acc: 0.8059 - val_loss: 0.0884 - val_acc: 0.9229\n",
      "Epoch 54/100\n",
      "63684/63684 [==============================] - 5s 78us/step - loss: 0.1593 - acc: 0.8059 - val_loss: 0.0882 - val_acc: 0.9123\n",
      "Epoch 55/100\n",
      "63684/63684 [==============================] - 7s 109us/step - loss: 0.1587 - acc: 0.8088 - val_loss: 0.0892 - val_acc: 0.9232\n",
      "Epoch 56/100\n",
      "63684/63684 [==============================] - 6s 97us/step - loss: 0.1599 - acc: 0.8061 - val_loss: 0.0982 - val_acc: 0.8994\n",
      "Epoch 57/100\n",
      "63684/63684 [==============================] - 6s 98us/step - loss: 0.1570 - acc: 0.8066 - val_loss: 0.0883 - val_acc: 0.9217\n",
      "Epoch 58/100\n",
      "63684/63684 [==============================] - 5s 83us/step - loss: 0.1586 - acc: 0.8090 - val_loss: 0.0886 - val_acc: 0.9181\n",
      "Epoch 59/100\n",
      "63684/63684 [==============================] - 5s 82us/step - loss: 0.1579 - acc: 0.8063 - val_loss: 0.0900 - val_acc: 0.9109\n",
      "Epoch 60/100\n",
      "63684/63684 [==============================] - 3s 47us/step - loss: 0.1591 - acc: 0.8083 - val_loss: 0.0889 - val_acc: 0.9237\n",
      "Epoch 61/100\n",
      "63684/63684 [==============================] - 3s 47us/step - loss: 0.1610 - acc: 0.8084 - val_loss: 0.0882 - val_acc: 0.9241\n",
      "Epoch 62/100\n",
      "63684/63684 [==============================] - 3s 48us/step - loss: 0.1611 - acc: 0.8065 - val_loss: 0.0892 - val_acc: 0.9250\n",
      "Epoch 63/100\n",
      "63684/63684 [==============================] - 3s 46us/step - loss: 0.1551 - acc: 0.8120 - val_loss: 0.0903 - val_acc: 0.9216\n",
      "Epoch 64/100\n",
      "63684/63684 [==============================] - 3s 44us/step - loss: 0.1636 - acc: 0.8051 - val_loss: 0.0883 - val_acc: 0.9282\n",
      "Epoch 65/100\n",
      "63684/63684 [==============================] - 3s 51us/step - loss: 0.1570 - acc: 0.8080 - val_loss: 0.0887 - val_acc: 0.9227\n",
      "Epoch 66/100\n",
      "63684/63684 [==============================] - 3s 53us/step - loss: 0.1605 - acc: 0.8055 - val_loss: 0.0877 - val_acc: 0.9226\n",
      "Epoch 67/100\n",
      "63684/63684 [==============================] - 3s 42us/step - loss: 0.1574 - acc: 0.8077 - val_loss: 0.0888 - val_acc: 0.9261\n",
      "Epoch 68/100\n",
      "63684/63684 [==============================] - 3s 43us/step - loss: 0.1578 - acc: 0.8064 - val_loss: 0.0885 - val_acc: 0.9219\n",
      "Epoch 69/100\n",
      "63684/63684 [==============================] - 3s 43us/step - loss: 0.1587 - acc: 0.8045 - val_loss: 0.0896 - val_acc: 0.9170\n",
      "Epoch 70/100\n",
      "63684/63684 [==============================] - 3s 44us/step - loss: 0.1635 - acc: 0.8003 - val_loss: 0.0901 - val_acc: 0.9197\n",
      "Epoch 71/100\n",
      "63684/63684 [==============================] - 3s 47us/step - loss: 0.1577 - acc: 0.8061 - val_loss: 0.0895 - val_acc: 0.9168\n",
      "Epoch 72/100\n",
      "63684/63684 [==============================] - 3s 51us/step - loss: 0.1574 - acc: 0.8089 - val_loss: 0.0895 - val_acc: 0.9237\n",
      "Epoch 73/100\n",
      "63684/63684 [==============================] - 3s 49us/step - loss: 0.1607 - acc: 0.8048 - val_loss: 0.0934 - val_acc: 0.9079\n",
      "Epoch 74/100\n",
      "63684/63684 [==============================] - 3s 49us/step - loss: 0.1640 - acc: 0.8063 - val_loss: 0.0877 - val_acc: 0.9278\n",
      "Epoch 75/100\n",
      "63684/63684 [==============================] - 3s 49us/step - loss: 0.1566 - acc: 0.8088 - val_loss: 0.0895 - val_acc: 0.9226\n",
      "Epoch 76/100\n",
      "63684/63684 [==============================] - 3s 42us/step - loss: 0.1602 - acc: 0.8059 - val_loss: 0.0884 - val_acc: 0.9174\n",
      "Epoch 77/100\n",
      "63684/63684 [==============================] - 3s 45us/step - loss: 0.1563 - acc: 0.8076 - val_loss: 0.0901 - val_acc: 0.9236\n",
      "Epoch 78/100\n",
      "63684/63684 [==============================] - 3s 42us/step - loss: 0.1601 - acc: 0.8060 - val_loss: 0.0891 - val_acc: 0.9082\n",
      "Epoch 79/100\n",
      "63684/63684 [==============================] - 3s 42us/step - loss: 0.1574 - acc: 0.8074 - val_loss: 0.0887 - val_acc: 0.9281\n",
      "Epoch 80/100\n",
      "63684/63684 [==============================] - 3s 42us/step - loss: 0.1573 - acc: 0.8048 - val_loss: 0.0952 - val_acc: 0.9048\n",
      "Epoch 81/100\n",
      "63684/63684 [==============================] - 3s 43us/step - loss: 0.1571 - acc: 0.8092 - val_loss: 0.0974 - val_acc: 0.9108\n",
      "Epoch 82/100\n",
      "63684/63684 [==============================] - 3s 43us/step - loss: 0.1562 - acc: 0.8090 - val_loss: 0.0910 - val_acc: 0.9142\n",
      "Epoch 83/100\n",
      "63684/63684 [==============================] - 3s 44us/step - loss: 0.1601 - acc: 0.8058 - val_loss: 0.0886 - val_acc: 0.9289\n",
      "Epoch 84/100\n",
      "63684/63684 [==============================] - 3s 42us/step - loss: 0.1590 - acc: 0.8062 - val_loss: 0.0885 - val_acc: 0.9214\n",
      "Epoch 85/100\n",
      "63684/63684 [==============================] - 3s 43us/step - loss: 0.1605 - acc: 0.8059 - val_loss: 0.0909 - val_acc: 0.9162\n",
      "Epoch 86/100\n",
      "63684/63684 [==============================] - 3s 43us/step - loss: 0.1615 - acc: 0.8062 - val_loss: 0.0993 - val_acc: 0.8945\n",
      "Epoch 87/100\n",
      "63684/63684 [==============================] - 3s 43us/step - loss: 0.1576 - acc: 0.8023 - val_loss: 0.0880 - val_acc: 0.9249\n",
      "Epoch 88/100\n",
      "63684/63684 [==============================] - 3s 40us/step - loss: 0.1546 - acc: 0.8089 - val_loss: 0.0880 - val_acc: 0.9220\n",
      "Epoch 89/100\n",
      "63684/63684 [==============================] - 3s 42us/step - loss: 0.1607 - acc: 0.8078 - val_loss: 0.0879 - val_acc: 0.9329\n",
      "Epoch 90/100\n",
      "63684/63684 [==============================] - 3s 41us/step - loss: 0.1587 - acc: 0.8077 - val_loss: 0.0909 - val_acc: 0.9155\n",
      "Epoch 91/100\n",
      "63684/63684 [==============================] - 3s 40us/step - loss: 0.1593 - acc: 0.8077 - val_loss: 0.0906 - val_acc: 0.9206\n",
      "Epoch 92/100\n",
      "63684/63684 [==============================] - 3s 41us/step - loss: 0.1592 - acc: 0.8049 - val_loss: 0.0881 - val_acc: 0.9278\n",
      "Epoch 93/100\n",
      "63684/63684 [==============================] - 3s 43us/step - loss: 0.1560 - acc: 0.8049 - val_loss: 0.0885 - val_acc: 0.9190\n",
      "Epoch 94/100\n",
      "63684/63684 [==============================] - 3s 41us/step - loss: 0.1573 - acc: 0.8069 - val_loss: 0.0923 - val_acc: 0.9104\n",
      "Epoch 95/100\n",
      "63684/63684 [==============================] - 3s 46us/step - loss: 0.1549 - acc: 0.8075 - val_loss: 0.0878 - val_acc: 0.9257\n",
      "Epoch 96/100\n",
      "63684/63684 [==============================] - 3s 41us/step - loss: 0.1598 - acc: 0.8066 - val_loss: 0.0998 - val_acc: 0.8881\n",
      "Epoch 97/100\n",
      "63684/63684 [==============================] - 3s 41us/step - loss: 0.1621 - acc: 0.8041 - val_loss: 0.0910 - val_acc: 0.9162\n",
      "Epoch 98/100\n",
      "63684/63684 [==============================] - 3s 41us/step - loss: 0.1567 - acc: 0.8085 - val_loss: 0.0956 - val_acc: 0.9035\n",
      "Epoch 99/100\n",
      "63684/63684 [==============================] - 3s 42us/step - loss: 0.1586 - acc: 0.8054 - val_loss: 0.0888 - val_acc: 0.9261\n",
      "Epoch 100/100\n",
      "63684/63684 [==============================] - 3s 50us/step - loss: 0.1597 - acc: 0.8072 - val_loss: 0.0885 - val_acc: 0.9190\n"
     ]
    },
    {
     "data": {
      "text/plain": [
       "<keras.callbacks.History at 0x1a2b15bcc0>"
      ]
     },
     "execution_count": 16,
     "metadata": {},
     "output_type": "execute_result"
    }
   ],
   "source": [
    "autoencoder.fit(X_train_nf, X_train_nf, epochs=100, \n",
    "                validation_split=0.2)"
   ]
  },
  {
   "cell_type": "markdown",
   "metadata": {},
   "source": [
    "#### Evaluate the loss on non-fraud train data"
   ]
  },
  {
   "cell_type": "code",
   "execution_count": 17,
   "metadata": {},
   "outputs": [
    {
     "name": "stdout",
     "output_type": "stream",
     "text": [
      "79606/79606 [==============================] - 2s 22us/step\n"
     ]
    },
    {
     "data": {
      "text/plain": [
       "[0.08836232554004189, 0.9174936562525736]"
      ]
     },
     "execution_count": 17,
     "metadata": {},
     "output_type": "execute_result"
    }
   ],
   "source": [
    "autoencoder.evaluate(X_train_nf, X_train_nf)"
   ]
  },
  {
   "cell_type": "markdown",
   "metadata": {},
   "source": [
    "#### Evaluate the loss on non-fraud test data"
   ]
  },
  {
   "cell_type": "code",
   "execution_count": 18,
   "metadata": {},
   "outputs": [
    {
     "name": "stdout",
     "output_type": "stream",
     "text": [
      "19902/19902 [==============================] - 0s 19us/step\n"
     ]
    },
    {
     "data": {
      "text/plain": [
       "[0.09027588934622725, 0.91412923324888]"
      ]
     },
     "execution_count": 18,
     "metadata": {},
     "output_type": "execute_result"
    }
   ],
   "source": [
    "autoencoder.evaluate(X_test_nf, X_test_nf)"
   ]
  },
  {
   "cell_type": "markdown",
   "metadata": {},
   "source": [
    "#### Evaluate the loss on fraud test data"
   ]
  },
  {
   "cell_type": "code",
   "execution_count": 19,
   "metadata": {},
   "outputs": [
    {
     "name": "stdout",
     "output_type": "stream",
     "text": [
      "492/492 [==============================] - 0s 25us/step\n"
     ]
    },
    {
     "data": {
      "text/plain": [
       "[18.8483804474032, 0.4532520330049158]"
      ]
     },
     "execution_count": 19,
     "metadata": {},
     "output_type": "execute_result"
    }
   ],
   "source": [
    "autoencoder.evaluate(X_test_f, X_test_f)"
   ]
  },
  {
   "cell_type": "markdown",
   "metadata": {},
   "source": [
    "#### Function to calculate mse for each record"
   ]
  },
  {
   "cell_type": "code",
   "execution_count": 20,
   "metadata": {},
   "outputs": [],
   "source": [
    "def mse_for_each_record(act, pred):\n",
    "    \n",
    "    return np.mean(np.square(act - pred), axis=1)"
   ]
  },
  {
   "cell_type": "markdown",
   "metadata": {},
   "source": [
    "#### Making predictions on the non-fraud train data"
   ]
  },
  {
   "cell_type": "code",
   "execution_count": 21,
   "metadata": {},
   "outputs": [],
   "source": [
    "pred_train_nf = autoencoder.predict(X_train_nf)\n",
    "\n",
    "mse_train_nf = mse_for_each_record(X_train_nf, pred_train_nf)"
   ]
  },
  {
   "cell_type": "code",
   "execution_count": 22,
   "metadata": {
    "scrolled": true
   },
   "outputs": [
    {
     "data": {
      "text/plain": [
       "1259     0.027043\n",
       "34243    0.179701\n",
       "95369    0.036412\n",
       "45833    0.025008\n",
       "10804    0.038884\n",
       "           ...   \n",
       "63511    0.036797\n",
       "61701    0.092500\n",
       "17822    0.038281\n",
       "28175    0.053311\n",
       "15804    0.023333\n",
       "Length: 79606, dtype: float64"
      ]
     },
     "execution_count": 22,
     "metadata": {},
     "output_type": "execute_result"
    }
   ],
   "source": [
    "mse_train_nf"
   ]
  },
  {
   "cell_type": "code",
   "execution_count": 23,
   "metadata": {
    "scrolled": true
   },
   "outputs": [
    {
     "data": {
      "text/plain": [
       "0.0883623253419994"
      ]
     },
     "execution_count": 23,
     "metadata": {},
     "output_type": "execute_result"
    }
   ],
   "source": [
    "np.mean(mse_train_nf)"
   ]
  },
  {
   "cell_type": "markdown",
   "metadata": {},
   "source": [
    "#### Making predictions on the non-fraud test data"
   ]
  },
  {
   "cell_type": "code",
   "execution_count": 24,
   "metadata": {},
   "outputs": [],
   "source": [
    "pred_test_nf = autoencoder.predict(X_test_nf)\n",
    "\n",
    "mse_test_nf = mse_for_each_record(X_test_nf, pred_test_nf)"
   ]
  },
  {
   "cell_type": "markdown",
   "metadata": {},
   "source": [
    "#### Making predictions on the fraud test data"
   ]
  },
  {
   "cell_type": "code",
   "execution_count": 25,
   "metadata": {},
   "outputs": [],
   "source": [
    "pred_test_f = autoencoder.predict(X_test_f)\n",
    "\n",
    "mse_test_f = mse_for_each_record(X_test_f, pred_test_f)"
   ]
  },
  {
   "cell_type": "markdown",
   "metadata": {},
   "source": [
    "## Explore and identify right cut-off \n",
    "\n",
    "### MSE Comparisionbox plot : Non - Fraud Train vs Non - Fraud Test vs Fraud Test "
   ]
  },
  {
   "cell_type": "code",
   "execution_count": 26,
   "metadata": {
    "scrolled": false
   },
   "outputs": [
    {
     "data": {
      "image/png": "[encoded data removed]",
      "text/plain": [
       "<Figure size 1440x720 with 3 Axes>"
      ]
     },
     "metadata": {
      "needs_background": "light"
     },
     "output_type": "display_data"
    }
   ],
   "source": [
    "plt.figure(figsize=(20,10))\n",
    "\n",
    "plt.subplot(1, 3, 1)\n",
    "plt.boxplot(mse_train_nf)\n",
    "plt.title(\"Non Fraud Train\")\n",
    "plt.ylabel(\"MSE\")\n",
    "\n",
    "plt.subplot(1, 3, 2)\n",
    "plt.boxplot(mse_test_nf)\n",
    "plt.title(\"Non Fraud Test\")\n",
    "plt.ylabel(\"MSE\")\n",
    "\n",
    "plt.subplot(1, 3, 3)\n",
    "plt.boxplot(mse_test_f)\n",
    "plt.title(\"Fraud Test\")\n",
    "plt.ylabel(\"MSE\")\n",
    "\n",
    "plt.show()"
   ]
  },
  {
   "cell_type": "markdown",
   "metadata": {},
   "source": [
    "#### Summary statistics on mse of non-fraud train, non-fraud test and fraud test data "
   ]
  },
  {
   "cell_type": "code",
   "execution_count": 27,
   "metadata": {},
   "outputs": [
    {
     "name": "stdout",
     "output_type": "stream",
     "text": [
      "-------mse_train_nf-------\n",
      "count    79606.000000\n",
      "mean         0.088362\n",
      "std          0.729728\n",
      "min          0.002783\n",
      "25%          0.019596\n",
      "50%          0.034917\n",
      "75%          0.062247\n",
      "max         79.989367\n",
      "dtype: float64\n",
      "\n",
      "-------mse_test_NF-------\n",
      "count    19902.000000\n",
      "mean         0.090276\n",
      "std          0.743060\n",
      "min          0.003495\n",
      "25%          0.019599\n",
      "50%          0.034644\n",
      "75%          0.062755\n",
      "max         46.725792\n",
      "dtype: float64\n",
      "\n",
      "-------mse_test_f-------\n",
      "count    492.000000\n",
      "mean      18.848381\n",
      "std       23.724699\n",
      "min        0.009628\n",
      "25%        2.853327\n",
      "50%        7.766299\n",
      "75%       24.612681\n",
      "max      109.942586\n",
      "dtype: float64\n"
     ]
    }
   ],
   "source": [
    "print(\"-------mse_train_nf-------\")\n",
    "print(pd.Series(mse_train_nf).describe())\n",
    "print(\"\\n-------mse_test_NF-------\")\n",
    "print(pd.Series(mse_test_nf).describe())\n",
    "print(\"\\n-------mse_test_f-------\")\n",
    "print(pd.Series(mse_test_f).describe())"
   ]
  },
  {
   "cell_type": "markdown",
   "metadata": {},
   "source": [
    "### Observations :\n",
    "\n",
    "- Mean error for Fraud Test is much high than others."
   ]
  },
  {
   "cell_type": "code",
   "execution_count": 28,
   "metadata": {},
   "outputs": [
    {
     "data": {
      "text/plain": [
       "0.07208331890255916"
      ]
     },
     "execution_count": 28,
     "metadata": {},
     "output_type": "execute_result"
    }
   ],
   "source": [
    "np.percentile(mse_train_nf, 80)"
   ]
  },
  {
   "cell_type": "code",
   "execution_count": 29,
   "metadata": {},
   "outputs": [
    {
     "data": {
      "text/plain": [
       "0.049783062336318525"
      ]
     },
     "execution_count": 29,
     "metadata": {},
     "output_type": "execute_result"
    }
   ],
   "source": [
    "np.percentile(mse_test_f, 10)"
   ]
  },
  {
   "cell_type": "code",
   "execution_count": 30,
   "metadata": {},
   "outputs": [
    {
     "data": {
      "text/plain": [
       "0.8155131343101705"
      ]
     },
     "execution_count": 30,
     "metadata": {},
     "output_type": "execute_result"
    }
   ],
   "source": [
    "np.percentile(mse_train_nf, 99)"
   ]
  },
  {
   "cell_type": "code",
   "execution_count": 46,
   "metadata": {},
   "outputs": [
    {
     "data": {
      "text/plain": [
       "0.8150151001001563"
      ]
     },
     "execution_count": 46,
     "metadata": {},
     "output_type": "execute_result"
    }
   ],
   "source": [
    "np.percentile(mse_test_f, 18)"
   ]
  },
  {
   "cell_type": "markdown",
   "metadata": {},
   "source": [
    "#### Decide cut-off"
   ]
  },
  {
   "cell_type": "code",
   "execution_count": 32,
   "metadata": {},
   "outputs": [
    {
     "name": "stdout",
     "output_type": "stream",
     "text": [
      "Cut-off = 0.82\n"
     ]
    }
   ],
   "source": [
    "cut_off = np.round(np.percentile(mse_train_nf,99), 2)\n",
    "\n",
    "print(\"Cut-off = {}\".format(cut_off))"
   ]
  },
  {
   "cell_type": "markdown",
   "metadata": {},
   "source": [
    "#### % of correctly predicted non-fraud train, non-fraud test and fraud test records"
   ]
  },
  {
   "cell_type": "code",
   "execution_count": 33,
   "metadata": {},
   "outputs": [
    {
     "name": "stdout",
     "output_type": "stream",
     "text": [
      "Non-fraud train records = 99.0%\n",
      "Non-fraud test records  = 99.0%\n",
      "Fraud test records      = 81.0%\n"
     ]
    }
   ],
   "source": [
    "print(\"Non-fraud train records = {}%\".format(np.round(np.sum(mse_train_nf <= cut_off)/train_nf.shape[0],2)*100))\n",
    "print(\"Non-fraud test records  = {}%\".format(np.round(np.sum(mse_test_nf <= cut_off)/test_nf.shape[0],2)*100))\n",
    "print(\"Fraud test records      = {}%\".format(np.round(np.sum(mse_test_f > cut_off)/test_f.shape[0],2)*100))"
   ]
  }
 ],
 "metadata": {
  "kernelspec": {
   "display_name": "Python 3",
   "language": "python",
   "name": "python3"
  },
  "language_info": {
   "codemirror_mode": {
    "name": "ipython",
    "version": 3
   },
   "file_extension": ".py",
   "mimetype": "text/x-python",
   "name": "python",
   "nbconvert_exporter": "python",
   "pygments_lexer": "ipython3",
   "version": "3.7.3"
  }
 },
 "nbformat": 4,
 "nbformat_minor": 2
}
